{
 "cells": [
  {
   "cell_type": "code",
   "execution_count": 1,
   "metadata": {},
   "outputs": [
    {
     "name": "stdout",
     "output_type": "stream",
     "text": [
      "0\n"
     ]
    }
   ],
   "source": [
    "class Solution:\n",
    "    def minimumTotal(self, triangle):\n",
    "        # 元のtriangleを壊さないためにコピーを作成\n",
    "        copy_triangle = [row[:] for row in triangle]\n",
    "\n",
    "        # DP処理\n",
    "        for row in range(len(copy_triangle) - 2, -1, -1):\n",
    "            for column in range(len(copy_triangle[row])):\n",
    "                copy_triangle[row][column] += min(copy_triangle[row + 1][column], copy_triangle[row + 1][column + 1])\n",
    "\n",
    "        return copy_triangle[0][0]\n",
    "\n",
    "\n",
    "if __name__ == \"__main__\":\n",
    "    s = Solution()\n",
    "    a = [\n",
    "        [-1],\n",
    "        [5, 4],\n",
    "        [1, -1, -3],\n",
    "    ]\n",
    "    print(s.minimumTotal(a))\n"
   ]
  }
 ],
 "metadata": {
  "kernelspec": {
   "display_name": "Python 3",
   "language": "python",
   "name": "python3"
  },
  "language_info": {
   "codemirror_mode": {
    "name": "ipython",
    "version": 3
   },
   "file_extension": ".py",
   "mimetype": "text/x-python",
   "name": "python",
   "nbconvert_exporter": "python",
   "pygments_lexer": "ipython3",
   "version": "3.12.8"
  }
 },
 "nbformat": 4,
 "nbformat_minor": 2
}
