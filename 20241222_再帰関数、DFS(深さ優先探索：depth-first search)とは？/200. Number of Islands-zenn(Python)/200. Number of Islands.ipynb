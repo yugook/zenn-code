{
 "cells": [
  {
   "cell_type": "code",
   "execution_count": 1,
   "metadata": {},
   "outputs": [
    {
     "name": "stdout",
     "output_type": "stream",
     "text": [
      "2\n"
     ]
    }
   ],
   "source": [
    "class Solution:\n",
    "    def dfs(self, grid, col, row):\n",
    "        if col < 0 or row < 0 or col >= len(grid) or row >= len(grid[0]) or grid[col][row] == '0':\n",
    "            return\n",
    "\n",
    "        grid[col][row] = '0'\n",
    "\n",
    "        self.dfs(grid, col - 1, row)  # 上\n",
    "        self.dfs(grid, col, row + 1)  # 右\n",
    "        self.dfs(grid, col + 1, row)  # 下\n",
    "        self.dfs(grid, col, row - 1)  # 左\n",
    "\n",
    "    def numIslands(self, grid):\n",
    "        lands_count = 0\n",
    "        for col in range(len(grid)):\n",
    "            for row in range(len(grid[0])):\n",
    "                if grid[col][row] == '1':\n",
    "                    lands_count += 1\n",
    "                    self.dfs(grid, col, row)\n",
    "        return lands_count\n",
    "\n",
    "\n",
    "if __name__ == \"__main__\":\n",
    "    s = Solution()\n",
    "    a = [\n",
    "        ['0', '1', '0', '0', '0'],\n",
    "        ['1', '1', '1', '0', '0'],\n",
    "        ['0', '1', '0', '0', '0'],\n",
    "        ['0', '0', '0', '1', '0']\n",
    "    ]\n",
    "    print(s.numIslands(a))\n"
   ]
  }
 ],
 "metadata": {
  "kernelspec": {
   "display_name": "Python 3",
   "language": "python",
   "name": "python3"
  },
  "language_info": {
   "codemirror_mode": {
    "name": "ipython",
    "version": 3
   },
   "file_extension": ".py",
   "mimetype": "text/x-python",
   "name": "python",
   "nbconvert_exporter": "python",
   "pygments_lexer": "ipython3",
   "version": "3.12.8"
  }
 },
 "nbformat": 4,
 "nbformat_minor": 2
}
